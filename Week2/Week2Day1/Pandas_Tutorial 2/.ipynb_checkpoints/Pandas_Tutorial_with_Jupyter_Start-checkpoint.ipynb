{
 "cells": [
  {
   "cell_type": "markdown",
   "metadata": {},
   "source": [
    "# DATAFRAME ANALYSIS:\n",
    "This is an introduction to Pandas, Numpy, and MatPlotLib for visualization"
   ]
  },
  {
   "cell_type": "code",
   "execution_count": 18,
   "metadata": {},
   "outputs": [],
   "source": [
    "# The first thing we need to do is import Pandas, Numpy, and MatPlotLib\n",
    "\n",
    "import pandas as pd\n",
    "import numpy as np\n",
    "import matplotlib.pyplot as plt\n",
    "import matplotlib.dates as mdates"
   ]
  },
  {
   "cell_type": "code",
   "execution_count": 19,
   "metadata": {},
   "outputs": [],
   "source": [
    "# Lets get started with our own data frame from dictionary data then work with some basic functions"
   ]
  },
  {
   "cell_type": "code",
   "execution_count": 20,
   "metadata": {},
   "outputs": [],
   "source": [
    "data = {'age':[12, 12, 12, 18, 15, 12],\n",
    "       'fav_food': ['burgers', 'matza balls', 'cheesy poofs', 'free stuff', 'Bennigans', 'kale juice'],\n",
    "       'times_died': [0, 0, 0, 98, 0, 0],\n",
    "       'gender': ['M','M','M','M','M','F']}\n",
    "\n",
    "labels = ['Stan', 'Kyle', 'Cartman', 'Kenny', 'Butters', 'Wendy' ]"
   ]
  },
  {
   "cell_type": "code",
   "execution_count": 21,
   "metadata": {},
   "outputs": [
    {
     "data": {
      "text/html": [
       "<div>\n",
       "<style scoped>\n",
       "    .dataframe tbody tr th:only-of-type {\n",
       "        vertical-align: middle;\n",
       "    }\n",
       "\n",
       "    .dataframe tbody tr th {\n",
       "        vertical-align: top;\n",
       "    }\n",
       "\n",
       "    .dataframe thead th {\n",
       "        text-align: right;\n",
       "    }\n",
       "</style>\n",
       "<table border=\"1\" class=\"dataframe\">\n",
       "  <thead>\n",
       "    <tr style=\"text-align: right;\">\n",
       "      <th></th>\n",
       "      <th>age</th>\n",
       "      <th>fav_food</th>\n",
       "      <th>times_died</th>\n",
       "      <th>gender</th>\n",
       "    </tr>\n",
       "  </thead>\n",
       "  <tbody>\n",
       "    <tr>\n",
       "      <th>Stan</th>\n",
       "      <td>12</td>\n",
       "      <td>burgers</td>\n",
       "      <td>0</td>\n",
       "      <td>M</td>\n",
       "    </tr>\n",
       "    <tr>\n",
       "      <th>Kyle</th>\n",
       "      <td>12</td>\n",
       "      <td>matza balls</td>\n",
       "      <td>0</td>\n",
       "      <td>M</td>\n",
       "    </tr>\n",
       "    <tr>\n",
       "      <th>Cartman</th>\n",
       "      <td>12</td>\n",
       "      <td>cheesy poofs</td>\n",
       "      <td>0</td>\n",
       "      <td>M</td>\n",
       "    </tr>\n",
       "    <tr>\n",
       "      <th>Kenny</th>\n",
       "      <td>18</td>\n",
       "      <td>free stuff</td>\n",
       "      <td>98</td>\n",
       "      <td>M</td>\n",
       "    </tr>\n",
       "    <tr>\n",
       "      <th>Butters</th>\n",
       "      <td>15</td>\n",
       "      <td>Bennigans</td>\n",
       "      <td>0</td>\n",
       "      <td>M</td>\n",
       "    </tr>\n",
       "    <tr>\n",
       "      <th>Wendy</th>\n",
       "      <td>12</td>\n",
       "      <td>kale juice</td>\n",
       "      <td>0</td>\n",
       "      <td>F</td>\n",
       "    </tr>\n",
       "  </tbody>\n",
       "</table>\n",
       "</div>"
      ],
      "text/plain": [
       "         age      fav_food  times_died gender\n",
       "Stan      12       burgers           0      M\n",
       "Kyle      12   matza balls           0      M\n",
       "Cartman   12  cheesy poofs           0      M\n",
       "Kenny     18    free stuff          98      M\n",
       "Butters   15     Bennigans           0      M\n",
       "Wendy     12    kale juice           0      F"
      ]
     },
     "execution_count": 21,
     "metadata": {},
     "output_type": "execute_result"
    }
   ],
   "source": [
    "#dataframe \n",
    "\n",
    "df = pd.DataFrame(data, index = labels)\n",
    "df"
   ]
  },
  {
   "cell_type": "code",
   "execution_count": 22,
   "metadata": {},
   "outputs": [
    {
     "data": {
      "text/html": [
       "<div>\n",
       "<style scoped>\n",
       "    .dataframe tbody tr th:only-of-type {\n",
       "        vertical-align: middle;\n",
       "    }\n",
       "\n",
       "    .dataframe tbody tr th {\n",
       "        vertical-align: top;\n",
       "    }\n",
       "\n",
       "    .dataframe thead th {\n",
       "        text-align: right;\n",
       "    }\n",
       "</style>\n",
       "<table border=\"1\" class=\"dataframe\">\n",
       "  <thead>\n",
       "    <tr style=\"text-align: right;\">\n",
       "      <th></th>\n",
       "      <th>age</th>\n",
       "      <th>fav_food</th>\n",
       "      <th>times_died</th>\n",
       "      <th>gender</th>\n",
       "    </tr>\n",
       "  </thead>\n",
       "  <tbody>\n",
       "    <tr>\n",
       "      <th>Stan</th>\n",
       "      <td>12</td>\n",
       "      <td>burgers</td>\n",
       "      <td>0</td>\n",
       "      <td>M</td>\n",
       "    </tr>\n",
       "    <tr>\n",
       "      <th>Kyle</th>\n",
       "      <td>12</td>\n",
       "      <td>matza balls</td>\n",
       "      <td>0</td>\n",
       "      <td>M</td>\n",
       "    </tr>\n",
       "    <tr>\n",
       "      <th>Cartman</th>\n",
       "      <td>12</td>\n",
       "      <td>cheesy poofs</td>\n",
       "      <td>0</td>\n",
       "      <td>M</td>\n",
       "    </tr>\n",
       "  </tbody>\n",
       "</table>\n",
       "</div>"
      ],
      "text/plain": [
       "         age      fav_food  times_died gender\n",
       "Stan      12       burgers           0      M\n",
       "Kyle      12   matza balls           0      M\n",
       "Cartman   12  cheesy poofs           0      M"
      ]
     },
     "execution_count": 22,
     "metadata": {},
     "output_type": "execute_result"
    }
   ],
   "source": [
    "# Return the first 3 rows\n",
    "df[0:3]"
   ]
  },
  {
   "cell_type": "code",
   "execution_count": 23,
   "metadata": {},
   "outputs": [],
   "source": [
    "# Different ways to use df.loc\n",
    "# loc allows you to acess a group of rows or columns by labels or boolean array"
   ]
  },
  {
   "cell_type": "code",
   "execution_count": 24,
   "metadata": {},
   "outputs": [
    {
     "data": {
      "text/plain": [
       "age                     12\n",
       "fav_food      cheesy poofs\n",
       "times_died               0\n",
       "gender                   M\n",
       "Name: Cartman, dtype: object"
      ]
     },
     "execution_count": 24,
     "metadata": {},
     "output_type": "execute_result"
    }
   ],
   "source": [
    "# Get the details of Cartman\n",
    "df.loc['Cartman']"
   ]
  },
  {
   "cell_type": "code",
   "execution_count": 25,
   "metadata": {},
   "outputs": [
    {
     "data": {
      "text/html": [
       "<div>\n",
       "<style scoped>\n",
       "    .dataframe tbody tr th:only-of-type {\n",
       "        vertical-align: middle;\n",
       "    }\n",
       "\n",
       "    .dataframe tbody tr th {\n",
       "        vertical-align: top;\n",
       "    }\n",
       "\n",
       "    .dataframe thead th {\n",
       "        text-align: right;\n",
       "    }\n",
       "</style>\n",
       "<table border=\"1\" class=\"dataframe\">\n",
       "  <thead>\n",
       "    <tr style=\"text-align: right;\">\n",
       "      <th></th>\n",
       "      <th>age</th>\n",
       "      <th>fav_food</th>\n",
       "      <th>times_died</th>\n",
       "      <th>gender</th>\n",
       "    </tr>\n",
       "  </thead>\n",
       "  <tbody>\n",
       "    <tr>\n",
       "      <th>Stan</th>\n",
       "      <td>12</td>\n",
       "      <td>burgers</td>\n",
       "      <td>0</td>\n",
       "      <td>M</td>\n",
       "    </tr>\n",
       "    <tr>\n",
       "      <th>Kyle</th>\n",
       "      <td>12</td>\n",
       "      <td>matza balls</td>\n",
       "      <td>0</td>\n",
       "      <td>M</td>\n",
       "    </tr>\n",
       "  </tbody>\n",
       "</table>\n",
       "</div>"
      ],
      "text/plain": [
       "      age     fav_food  times_died gender\n",
       "Stan   12      burgers           0      M\n",
       "Kyle   12  matza balls           0      M"
      ]
     },
     "execution_count": 25,
     "metadata": {},
     "output_type": "execute_result"
    }
   ],
   "source": [
    "# Return the details for Stan and Kyle\n",
    "df.loc[['Stan', 'Kyle']]"
   ]
  },
  {
   "cell_type": "code",
   "execution_count": 26,
   "metadata": {},
   "outputs": [
    {
     "data": {
      "text/html": [
       "<div>\n",
       "<style scoped>\n",
       "    .dataframe tbody tr th:only-of-type {\n",
       "        vertical-align: middle;\n",
       "    }\n",
       "\n",
       "    .dataframe tbody tr th {\n",
       "        vertical-align: top;\n",
       "    }\n",
       "\n",
       "    .dataframe thead th {\n",
       "        text-align: right;\n",
       "    }\n",
       "</style>\n",
       "<table border=\"1\" class=\"dataframe\">\n",
       "  <thead>\n",
       "    <tr style=\"text-align: right;\">\n",
       "      <th></th>\n",
       "      <th>age</th>\n",
       "      <th>fav_food</th>\n",
       "      <th>times_died</th>\n",
       "      <th>gender</th>\n",
       "    </tr>\n",
       "  </thead>\n",
       "  <tbody>\n",
       "    <tr>\n",
       "      <th>Kenny</th>\n",
       "      <td>18</td>\n",
       "      <td>free stuff</td>\n",
       "      <td>98</td>\n",
       "      <td>M</td>\n",
       "    </tr>\n",
       "  </tbody>\n",
       "</table>\n",
       "</div>"
      ],
      "text/plain": [
       "       age    fav_food  times_died gender\n",
       "Kenny   18  free stuff          98      M"
      ]
     },
     "execution_count": 26,
     "metadata": {},
     "output_type": "execute_result"
    }
   ],
   "source": [
    "# Who is the kid that has died the most \n",
    "df_copy = df.copy()\n",
    "\n",
    "dead_kid = df.loc[df['times_died'] == df['times_died'].max() ]\n",
    "\n",
    "dead_kid"
   ]
  },
  {
   "cell_type": "code",
   "execution_count": 32,
   "metadata": {},
   "outputs": [
    {
     "data": {
      "text/html": [
       "<div>\n",
       "<style scoped>\n",
       "    .dataframe tbody tr th:only-of-type {\n",
       "        vertical-align: middle;\n",
       "    }\n",
       "\n",
       "    .dataframe tbody tr th {\n",
       "        vertical-align: top;\n",
       "    }\n",
       "\n",
       "    .dataframe thead th {\n",
       "        text-align: right;\n",
       "    }\n",
       "</style>\n",
       "<table border=\"1\" class=\"dataframe\">\n",
       "  <thead>\n",
       "    <tr style=\"text-align: right;\">\n",
       "      <th></th>\n",
       "      <th>age</th>\n",
       "      <th>fav_food</th>\n",
       "      <th>times_died</th>\n",
       "      <th>gender</th>\n",
       "    </tr>\n",
       "  </thead>\n",
       "  <tbody>\n",
       "    <tr>\n",
       "      <th>Stan</th>\n",
       "      <td>12</td>\n",
       "      <td>burgers</td>\n",
       "      <td>0</td>\n",
       "      <td>M</td>\n",
       "    </tr>\n",
       "    <tr>\n",
       "      <th>Kyle</th>\n",
       "      <td>12</td>\n",
       "      <td>matza balls</td>\n",
       "      <td>0</td>\n",
       "      <td>M</td>\n",
       "    </tr>\n",
       "    <tr>\n",
       "      <th>Cartman</th>\n",
       "      <td>12</td>\n",
       "      <td>cheesy poofs</td>\n",
       "      <td>0</td>\n",
       "      <td>M</td>\n",
       "    </tr>\n",
       "  </tbody>\n",
       "</table>\n",
       "</div>"
      ],
      "text/plain": [
       "         age      fav_food  times_died gender\n",
       "Stan      12       burgers           0      M\n",
       "Kyle      12   matza balls           0      M\n",
       "Cartman   12  cheesy poofs           0      M"
      ]
     },
     "execution_count": 32,
     "metadata": {},
     "output_type": "execute_result"
    }
   ],
   "source": [
    "# Return all the males who are younger than 15\n",
    "\n",
    "under_15_males = df.loc[ (df['gender'] == 'M') & (df['age'] < 15) ]\n",
    "\n",
    "under_15_males"
   ]
  },
  {
   "cell_type": "code",
   "execution_count": 42,
   "metadata": {},
   "outputs": [
    {
     "data": {
      "text/html": [
       "<div>\n",
       "<style scoped>\n",
       "    .dataframe tbody tr th:only-of-type {\n",
       "        vertical-align: middle;\n",
       "    }\n",
       "\n",
       "    .dataframe tbody tr th {\n",
       "        vertical-align: top;\n",
       "    }\n",
       "\n",
       "    .dataframe thead th {\n",
       "        text-align: right;\n",
       "    }\n",
       "</style>\n",
       "<table border=\"1\" class=\"dataframe\">\n",
       "  <thead>\n",
       "    <tr style=\"text-align: right;\">\n",
       "      <th></th>\n",
       "      <th>age</th>\n",
       "      <th>fav_food</th>\n",
       "      <th>times_died</th>\n",
       "      <th>gender</th>\n",
       "    </tr>\n",
       "  </thead>\n",
       "  <tbody>\n",
       "    <tr>\n",
       "      <th>Wendy</th>\n",
       "      <td>12</td>\n",
       "      <td>kale juice</td>\n",
       "      <td>0</td>\n",
       "      <td>F</td>\n",
       "    </tr>\n",
       "  </tbody>\n",
       "</table>\n",
       "</div>"
      ],
      "text/plain": [
       "       age    fav_food  times_died gender\n",
       "Wendy   12  kale juice           0      F"
      ]
     },
     "execution_count": 42,
     "metadata": {},
     "output_type": "execute_result"
    }
   ],
   "source": [
    "# CLASS - return the df for the only female \n",
    "female = df.loc[ (df['gender'] == 'F') & (df['age'] < 15) ]\n",
    "# female = df.loc[(df['gender'] == 'F')]\n",
    "female"
   ]
  },
  {
   "cell_type": "code",
   "execution_count": 44,
   "metadata": {},
   "outputs": [
    {
     "data": {
      "text/plain": [
       "(array([4., 0., 0., 0., 0., 1., 0., 0., 0., 1.]),\n",
       " array([12. , 12.6, 13.2, 13.8, 14.4, 15. , 15.6, 16.2, 16.8, 17.4, 18. ]),\n",
       " <a list of 10 Patch objects>)"
      ]
     },
     "execution_count": 44,
     "metadata": {},
     "output_type": "execute_result"
    },
    {
     "data": {
      "image/png": "[encoded data removed]",
      "text/plain": [
       "<Figure size 432x288 with 1 Axes>"
      ]
     },
     "metadata": {
      "needs_background": "light"
     },
     "output_type": "display_data"
    }
   ],
   "source": [
    "# create a histogram for the ages\n",
    "# first create a list of the kids ages\n",
    "\n",
    "list_of_ages = df['age'].tolist()\n",
    "plt.hist(list_of_ages)"
   ]
  },
  {
   "cell_type": "code",
   "execution_count": 12,
   "metadata": {},
   "outputs": [],
   "source": [
    "# Lets now learn some additional Panda methods"
   ]
  },
  {
   "cell_type": "code",
   "execution_count": 45,
   "metadata": {},
   "outputs": [
    {
     "data": {
      "text/plain": [
       "6"
      ]
     },
     "execution_count": 45,
     "metadata": {},
     "output_type": "execute_result"
    }
   ],
   "source": [
    "df['age'].count()"
   ]
  },
  {
   "cell_type": "code",
   "execution_count": 46,
   "metadata": {},
   "outputs": [
    {
     "data": {
      "text/plain": [
       "12"
      ]
     },
     "execution_count": 46,
     "metadata": {},
     "output_type": "execute_result"
    }
   ],
   "source": [
    "df['age'].min()"
   ]
  },
  {
   "cell_type": "code",
   "execution_count": 47,
   "metadata": {},
   "outputs": [
    {
     "data": {
      "text/plain": [
       "13.5"
      ]
     },
     "execution_count": 47,
     "metadata": {},
     "output_type": "execute_result"
    }
   ],
   "source": [
    "df['age'].mean()"
   ]
  },
  {
   "cell_type": "code",
   "execution_count": 48,
   "metadata": {},
   "outputs": [
    {
     "data": {
      "text/plain": [
       "12.0"
      ]
     },
     "execution_count": 48,
     "metadata": {},
     "output_type": "execute_result"
    }
   ],
   "source": [
    "df['age'].median()"
   ]
  },
  {
   "cell_type": "code",
   "execution_count": 13,
   "metadata": {},
   "outputs": [],
   "source": [
    "# Now that we have a basic understanding of simple data analysis in Pandas - let's now dive into time-series analysis "
   ]
  },
  {
   "cell_type": "code",
   "execution_count": 52,
   "metadata": {},
   "outputs": [
    {
     "data": {
      "text/html": [
       "<div>\n",
       "<style scoped>\n",
       "    .dataframe tbody tr th:only-of-type {\n",
       "        vertical-align: middle;\n",
       "    }\n",
       "\n",
       "    .dataframe tbody tr th {\n",
       "        vertical-align: top;\n",
       "    }\n",
       "\n",
       "    .dataframe thead th {\n",
       "        text-align: right;\n",
       "    }\n",
       "</style>\n",
       "<table border=\"1\" class=\"dataframe\">\n",
       "  <thead>\n",
       "    <tr style=\"text-align: right;\">\n",
       "      <th></th>\n",
       "      <th>Date</th>\n",
       "      <th>High</th>\n",
       "      <th>Low</th>\n",
       "      <th>Close</th>\n",
       "    </tr>\n",
       "  </thead>\n",
       "  <tbody>\n",
       "    <tr>\n",
       "      <th>0</th>\n",
       "      <td>﻿Date</td>\n",
       "      <td>High</td>\n",
       "      <td>Low</td>\n",
       "      <td>Close</td>\n",
       "    </tr>\n",
       "    <tr>\n",
       "      <th>1</th>\n",
       "      <td>10/10/2018</td>\n",
       "      <td>6640.29</td>\n",
       "      <td>6538.96</td>\n",
       "      <td>6585.53</td>\n",
       "    </tr>\n",
       "    <tr>\n",
       "      <th>2</th>\n",
       "      <td>10/11/2018</td>\n",
       "      <td>6586.74</td>\n",
       "      <td>6243.74</td>\n",
       "      <td>6256.24</td>\n",
       "    </tr>\n",
       "    <tr>\n",
       "      <th>3</th>\n",
       "      <td>10/12/2018</td>\n",
       "      <td>6328.5</td>\n",
       "      <td>6236.47</td>\n",
       "      <td>6274.58</td>\n",
       "    </tr>\n",
       "    <tr>\n",
       "      <th>4</th>\n",
       "      <td>10/13/2018</td>\n",
       "      <td>6308.51</td>\n",
       "      <td>6259.81</td>\n",
       "      <td>6285.99</td>\n",
       "    </tr>\n",
       "    <tr>\n",
       "      <th>5</th>\n",
       "      <td>10/14/2018</td>\n",
       "      <td>6363.21</td>\n",
       "      <td>6280.15</td>\n",
       "      <td>6290.93</td>\n",
       "    </tr>\n",
       "    <tr>\n",
       "      <th>6</th>\n",
       "      <td>10/15/2018</td>\n",
       "      <td>6965.06</td>\n",
       "      <td>6258.68</td>\n",
       "      <td>6596.54</td>\n",
       "    </tr>\n",
       "    <tr>\n",
       "      <th>7</th>\n",
       "      <td>10/16/2018</td>\n",
       "      <td>6673.59</td>\n",
       "      <td>6571.37</td>\n",
       "      <td>6596.11</td>\n",
       "    </tr>\n",
       "    <tr>\n",
       "      <th>8</th>\n",
       "      <td>10/17/2018</td>\n",
       "      <td>6601.21</td>\n",
       "      <td>6517.45</td>\n",
       "      <td>6544.43</td>\n",
       "    </tr>\n",
       "    <tr>\n",
       "      <th>9</th>\n",
       "      <td>10/18/2018</td>\n",
       "      <td>6567.54</td>\n",
       "      <td>6450.04</td>\n",
       "      <td>6476.71</td>\n",
       "    </tr>\n",
       "  </tbody>\n",
       "</table>\n",
       "</div>"
      ],
      "text/plain": [
       "         Date     High      Low    Close\n",
       "0       ﻿Date     High      Low    Close\n",
       "1  10/10/2018  6640.29  6538.96  6585.53\n",
       "2  10/11/2018  6586.74  6243.74  6256.24\n",
       "3  10/12/2018   6328.5  6236.47  6274.58\n",
       "4  10/13/2018  6308.51  6259.81  6285.99\n",
       "5  10/14/2018  6363.21  6280.15  6290.93\n",
       "6  10/15/2018  6965.06  6258.68  6596.54\n",
       "7  10/16/2018  6673.59  6571.37  6596.11\n",
       "8  10/17/2018  6601.21  6517.45  6544.43\n",
       "9  10/18/2018  6567.54  6450.04  6476.71"
      ]
     },
     "execution_count": 52,
     "metadata": {},
     "output_type": "execute_result"
    }
   ],
   "source": [
    "# lets first import csv and import the bitcoin.csv file \n",
    "import csv\n",
    "\n",
    "# LONG HAND\n",
    "d = {'Date':[], 'High':[], 'Low':[], 'Close':[] }\n",
    "\n",
    "with open('bitcoin.csv', 'r') as file:\n",
    "    rows = csv.reader(file)\n",
    "    for row in rows:\n",
    "        d['Date'].append(row[0])\n",
    "        d['High'].append(row[2])\n",
    "        d['Low'].append(row[3])\n",
    "        d['Close'].append(row[4])\n",
    "\n",
    "df_long_way=pd.DataFrame(d)\n",
    "df_long_way.head(10)"
   ]
  },
  {
   "cell_type": "code",
   "execution_count": 57,
   "metadata": {},
   "outputs": [
    {
     "data": {
      "text/html": [
       "<div>\n",
       "<style scoped>\n",
       "    .dataframe tbody tr th:only-of-type {\n",
       "        vertical-align: middle;\n",
       "    }\n",
       "\n",
       "    .dataframe tbody tr th {\n",
       "        vertical-align: top;\n",
       "    }\n",
       "\n",
       "    .dataframe thead th {\n",
       "        text-align: right;\n",
       "    }\n",
       "</style>\n",
       "<table border=\"1\" class=\"dataframe\">\n",
       "  <thead>\n",
       "    <tr style=\"text-align: right;\">\n",
       "      <th></th>\n",
       "      <th>Date</th>\n",
       "      <th>Open</th>\n",
       "      <th>High</th>\n",
       "      <th>Low</th>\n",
       "      <th>Close</th>\n",
       "      <th>Volume</th>\n",
       "      <th>MarketCap</th>\n",
       "    </tr>\n",
       "  </thead>\n",
       "  <tbody>\n",
       "    <tr>\n",
       "      <th>0</th>\n",
       "      <td>10/10/2018</td>\n",
       "      <td>6640.29</td>\n",
       "      <td>6640.29</td>\n",
       "      <td>6538.96</td>\n",
       "      <td>6585.53</td>\n",
       "      <td>3787650000</td>\n",
       "      <td>1.140310e+11</td>\n",
       "    </tr>\n",
       "    <tr>\n",
       "      <th>1</th>\n",
       "      <td>10/11/2018</td>\n",
       "      <td>6586.74</td>\n",
       "      <td>6586.74</td>\n",
       "      <td>6243.74</td>\n",
       "      <td>6256.24</td>\n",
       "      <td>5181640000</td>\n",
       "      <td>1.083420e+11</td>\n",
       "    </tr>\n",
       "    <tr>\n",
       "      <th>2</th>\n",
       "      <td>10/12/2018</td>\n",
       "      <td>6239.25</td>\n",
       "      <td>6328.50</td>\n",
       "      <td>6236.47</td>\n",
       "      <td>6274.58</td>\n",
       "      <td>3783500000</td>\n",
       "      <td>1.086700e+11</td>\n",
       "    </tr>\n",
       "    <tr>\n",
       "      <th>3</th>\n",
       "      <td>10/13/2018</td>\n",
       "      <td>6278.08</td>\n",
       "      <td>6308.51</td>\n",
       "      <td>6259.81</td>\n",
       "      <td>6285.99</td>\n",
       "      <td>3064030000</td>\n",
       "      <td>1.088780e+11</td>\n",
       "    </tr>\n",
       "    <tr>\n",
       "      <th>4</th>\n",
       "      <td>10/14/2018</td>\n",
       "      <td>6288.49</td>\n",
       "      <td>6363.21</td>\n",
       "      <td>6280.15</td>\n",
       "      <td>6290.93</td>\n",
       "      <td>3085320000</td>\n",
       "      <td>1.089730e+11</td>\n",
       "    </tr>\n",
       "    <tr>\n",
       "      <th>5</th>\n",
       "      <td>10/15/2018</td>\n",
       "      <td>6292.64</td>\n",
       "      <td>6965.06</td>\n",
       "      <td>6258.68</td>\n",
       "      <td>6596.54</td>\n",
       "      <td>7370770000</td>\n",
       "      <td>1.142800e+11</td>\n",
       "    </tr>\n",
       "    <tr>\n",
       "      <th>6</th>\n",
       "      <td>10/16/2018</td>\n",
       "      <td>6601.41</td>\n",
       "      <td>6673.59</td>\n",
       "      <td>6571.37</td>\n",
       "      <td>6596.11</td>\n",
       "      <td>4074800000</td>\n",
       "      <td>1.142840e+11</td>\n",
       "    </tr>\n",
       "    <tr>\n",
       "      <th>7</th>\n",
       "      <td>10/17/2018</td>\n",
       "      <td>6590.52</td>\n",
       "      <td>6601.21</td>\n",
       "      <td>6517.45</td>\n",
       "      <td>6544.43</td>\n",
       "      <td>4088420000</td>\n",
       "      <td>1.133990e+11</td>\n",
       "    </tr>\n",
       "    <tr>\n",
       "      <th>8</th>\n",
       "      <td>10/18/2018</td>\n",
       "      <td>6542.33</td>\n",
       "      <td>6567.54</td>\n",
       "      <td>6450.04</td>\n",
       "      <td>6476.71</td>\n",
       "      <td>3924080000</td>\n",
       "      <td>1.122370e+11</td>\n",
       "    </tr>\n",
       "    <tr>\n",
       "      <th>9</th>\n",
       "      <td>10/19/2018</td>\n",
       "      <td>6478.07</td>\n",
       "      <td>6493.68</td>\n",
       "      <td>6445.31</td>\n",
       "      <td>6465.41</td>\n",
       "      <td>3578870000</td>\n",
       "      <td>1.120530e+11</td>\n",
       "    </tr>\n",
       "  </tbody>\n",
       "</table>\n",
       "</div>"
      ],
      "text/plain": [
       "         Date     Open     High      Low    Close      Volume     MarketCap\n",
       "0  10/10/2018  6640.29  6640.29  6538.96  6585.53  3787650000  1.140310e+11\n",
       "1  10/11/2018  6586.74  6586.74  6243.74  6256.24  5181640000  1.083420e+11\n",
       "2  10/12/2018  6239.25  6328.50  6236.47  6274.58  3783500000  1.086700e+11\n",
       "3  10/13/2018  6278.08  6308.51  6259.81  6285.99  3064030000  1.088780e+11\n",
       "4  10/14/2018  6288.49  6363.21  6280.15  6290.93  3085320000  1.089730e+11\n",
       "5  10/15/2018  6292.64  6965.06  6258.68  6596.54  7370770000  1.142800e+11\n",
       "6  10/16/2018  6601.41  6673.59  6571.37  6596.11  4074800000  1.142840e+11\n",
       "7  10/17/2018  6590.52  6601.21  6517.45  6544.43  4088420000  1.133990e+11\n",
       "8  10/18/2018  6542.33  6567.54  6450.04  6476.71  3924080000  1.122370e+11\n",
       "9  10/19/2018  6478.07  6493.68  6445.31  6465.41  3578870000  1.120530e+11"
      ]
     },
     "execution_count": 57,
     "metadata": {},
     "output_type": "execute_result"
    }
   ],
   "source": [
    "df_bitcoin = pd.read_csv( 'bitcoin.csv', parse_dates = True )\n",
    "df_bitcoin.head(10)"
   ]
  },
  {
   "cell_type": "code",
   "execution_count": 15,
   "metadata": {},
   "outputs": [],
   "source": [
    "# Display the 10 most recent entries"
   ]
  },
  {
   "cell_type": "code",
   "execution_count": 70,
   "metadata": {},
   "outputs": [
    {
     "data": {
      "text/plain": [
       "<matplotlib.legend.Legend at 0x116c044a8>"
      ]
     },
     "execution_count": 70,
     "metadata": {},
     "output_type": "execute_result"
    },
    {
     "data": {
      "image/png": "[encoded data removed]",
      "text/plain": [
       "<Figure size 432x288 with 1 Axes>"
      ]
     },
     "metadata": {
      "needs_background": "light"
     },
     "output_type": "display_data"
    }
   ],
   "source": [
    "# Lets first visualize the data then add additional columns for analysis \n",
    "# Let's reconfigure the date format \n",
    "df_bitcoin.Date = pd.to_datetime(df_bitcoin.Date)\n",
    "df_bitcoin.head(10)\n",
    "\n",
    "\n",
    "# now let's create some subplots\n",
    "fig, ax = plt.subplots()\n",
    "\n",
    "\n",
    "# now let's select which data to add to the graph - we'll do High, Low, and Close\n",
    "ax.plot_date(df_bitcoin.Date, df_bitcoin.High)\n",
    "# ax.plot_date(df_bitcoin.Date, df_bitcoin.Low)\n",
    "# ax.plot_date(df_bitcoin.Date, df_bitcoin.Close)\n",
    "ax.plot_date(df_bitcoin_expanded.Date, df_bitcoin_expanded.Daily_Rolling_AVG)\n",
    "\n",
    "\n",
    "\n",
    "# Lets also reformat the axis \n",
    "ax.xaxis.set_major_locator(mdates.MonthLocator())\n",
    "ax.xaxis.set_major_formatter(mdates.DateFormatter('%b\\n%Y'))\n",
    "\n",
    "# And now lets label each axis and the graph itself\n",
    "plt.title('BTC')\n",
    "plt.xlabel('Date')\n",
    "plt.ylabel('Price')\n",
    "ax.legend()"
   ]
  },
  {
   "cell_type": "code",
   "execution_count": 67,
   "metadata": {},
   "outputs": [],
   "source": [
    "# ALWAYS make a copy of the data frame before you mutate it, never mutate the original state\n",
    "df_bitcoin_expanded = df_bitcoin.copy()"
   ]
  },
  {
   "cell_type": "code",
   "execution_count": 69,
   "metadata": {},
   "outputs": [
    {
     "data": {
      "text/html": [
       "<div>\n",
       "<style scoped>\n",
       "    .dataframe tbody tr th:only-of-type {\n",
       "        vertical-align: middle;\n",
       "    }\n",
       "\n",
       "    .dataframe tbody tr th {\n",
       "        vertical-align: top;\n",
       "    }\n",
       "\n",
       "    .dataframe thead th {\n",
       "        text-align: right;\n",
       "    }\n",
       "</style>\n",
       "<table border=\"1\" class=\"dataframe\">\n",
       "  <thead>\n",
       "    <tr style=\"text-align: right;\">\n",
       "      <th></th>\n",
       "      <th>Date</th>\n",
       "      <th>Open</th>\n",
       "      <th>High</th>\n",
       "      <th>Low</th>\n",
       "      <th>Close</th>\n",
       "      <th>Volume</th>\n",
       "      <th>MarketCap</th>\n",
       "      <th>Daily_Rolling_AVG</th>\n",
       "    </tr>\n",
       "  </thead>\n",
       "  <tbody>\n",
       "    <tr>\n",
       "      <th>0</th>\n",
       "      <td>2018-10-10</td>\n",
       "      <td>6640.29</td>\n",
       "      <td>6640.29</td>\n",
       "      <td>6538.96</td>\n",
       "      <td>6585.53</td>\n",
       "      <td>3787650000</td>\n",
       "      <td>1.140310e+11</td>\n",
       "      <td>6585.530000</td>\n",
       "    </tr>\n",
       "    <tr>\n",
       "      <th>1</th>\n",
       "      <td>2018-10-11</td>\n",
       "      <td>6586.74</td>\n",
       "      <td>6586.74</td>\n",
       "      <td>6243.74</td>\n",
       "      <td>6256.24</td>\n",
       "      <td>5181640000</td>\n",
       "      <td>1.083420e+11</td>\n",
       "      <td>6420.885000</td>\n",
       "    </tr>\n",
       "    <tr>\n",
       "      <th>2</th>\n",
       "      <td>2018-10-12</td>\n",
       "      <td>6239.25</td>\n",
       "      <td>6328.50</td>\n",
       "      <td>6236.47</td>\n",
       "      <td>6274.58</td>\n",
       "      <td>3783500000</td>\n",
       "      <td>1.086700e+11</td>\n",
       "      <td>6372.116667</td>\n",
       "    </tr>\n",
       "    <tr>\n",
       "      <th>3</th>\n",
       "      <td>2018-10-13</td>\n",
       "      <td>6278.08</td>\n",
       "      <td>6308.51</td>\n",
       "      <td>6259.81</td>\n",
       "      <td>6285.99</td>\n",
       "      <td>3064030000</td>\n",
       "      <td>1.088780e+11</td>\n",
       "      <td>6350.585000</td>\n",
       "    </tr>\n",
       "    <tr>\n",
       "      <th>4</th>\n",
       "      <td>2018-10-14</td>\n",
       "      <td>6288.49</td>\n",
       "      <td>6363.21</td>\n",
       "      <td>6280.15</td>\n",
       "      <td>6290.93</td>\n",
       "      <td>3085320000</td>\n",
       "      <td>1.089730e+11</td>\n",
       "      <td>6338.654000</td>\n",
       "    </tr>\n",
       "    <tr>\n",
       "      <th>5</th>\n",
       "      <td>2018-10-15</td>\n",
       "      <td>6292.64</td>\n",
       "      <td>6965.06</td>\n",
       "      <td>6258.68</td>\n",
       "      <td>6596.54</td>\n",
       "      <td>7370770000</td>\n",
       "      <td>1.142800e+11</td>\n",
       "      <td>6381.635000</td>\n",
       "    </tr>\n",
       "    <tr>\n",
       "      <th>6</th>\n",
       "      <td>2018-10-16</td>\n",
       "      <td>6601.41</td>\n",
       "      <td>6673.59</td>\n",
       "      <td>6571.37</td>\n",
       "      <td>6596.11</td>\n",
       "      <td>4074800000</td>\n",
       "      <td>1.142840e+11</td>\n",
       "      <td>6412.274286</td>\n",
       "    </tr>\n",
       "    <tr>\n",
       "      <th>7</th>\n",
       "      <td>2018-10-17</td>\n",
       "      <td>6590.52</td>\n",
       "      <td>6601.21</td>\n",
       "      <td>6517.45</td>\n",
       "      <td>6544.43</td>\n",
       "      <td>4088420000</td>\n",
       "      <td>1.133990e+11</td>\n",
       "      <td>6428.793750</td>\n",
       "    </tr>\n",
       "    <tr>\n",
       "      <th>8</th>\n",
       "      <td>2018-10-18</td>\n",
       "      <td>6542.33</td>\n",
       "      <td>6567.54</td>\n",
       "      <td>6450.04</td>\n",
       "      <td>6476.71</td>\n",
       "      <td>3924080000</td>\n",
       "      <td>1.122370e+11</td>\n",
       "      <td>6434.117778</td>\n",
       "    </tr>\n",
       "    <tr>\n",
       "      <th>9</th>\n",
       "      <td>2018-10-19</td>\n",
       "      <td>6478.07</td>\n",
       "      <td>6493.68</td>\n",
       "      <td>6445.31</td>\n",
       "      <td>6465.41</td>\n",
       "      <td>3578870000</td>\n",
       "      <td>1.120530e+11</td>\n",
       "      <td>6437.247000</td>\n",
       "    </tr>\n",
       "  </tbody>\n",
       "</table>\n",
       "</div>"
      ],
      "text/plain": [
       "        Date     Open     High      Low    Close      Volume     MarketCap  \\\n",
       "0 2018-10-10  6640.29  6640.29  6538.96  6585.53  3787650000  1.140310e+11   \n",
       "1 2018-10-11  6586.74  6586.74  6243.74  6256.24  5181640000  1.083420e+11   \n",
       "2 2018-10-12  6239.25  6328.50  6236.47  6274.58  3783500000  1.086700e+11   \n",
       "3 2018-10-13  6278.08  6308.51  6259.81  6285.99  3064030000  1.088780e+11   \n",
       "4 2018-10-14  6288.49  6363.21  6280.15  6290.93  3085320000  1.089730e+11   \n",
       "5 2018-10-15  6292.64  6965.06  6258.68  6596.54  7370770000  1.142800e+11   \n",
       "6 2018-10-16  6601.41  6673.59  6571.37  6596.11  4074800000  1.142840e+11   \n",
       "7 2018-10-17  6590.52  6601.21  6517.45  6544.43  4088420000  1.133990e+11   \n",
       "8 2018-10-18  6542.33  6567.54  6450.04  6476.71  3924080000  1.122370e+11   \n",
       "9 2018-10-19  6478.07  6493.68  6445.31  6465.41  3578870000  1.120530e+11   \n",
       "\n",
       "   Daily_Rolling_AVG  \n",
       "0        6585.530000  \n",
       "1        6420.885000  \n",
       "2        6372.116667  \n",
       "3        6350.585000  \n",
       "4        6338.654000  \n",
       "5        6381.635000  \n",
       "6        6412.274286  \n",
       "7        6428.793750  \n",
       "8        6434.117778  \n",
       "9        6437.247000  "
      ]
     },
     "execution_count": 69,
     "metadata": {},
     "output_type": "execute_result"
    }
   ],
   "source": [
    "# lets now create a daily rolling average column and then recreate the graph \n",
    "\n",
    "df_bitcoin_expanded['Daily_Rolling_AVG'] = df_bitcoin_expanded['Close'].expanding(1).mean()\n",
    "df_bitcoin_expanded.head(10)"
   ]
  },
  {
   "cell_type": "code",
   "execution_count": null,
   "metadata": {},
   "outputs": [],
   "source": []
  },
  {
   "cell_type": "code",
   "execution_count": null,
   "metadata": {},
   "outputs": [],
   "source": []
  }
 ],
 "metadata": {
  "kernelspec": {
   "display_name": "Python 3",
   "language": "python",
   "name": "python3"
  },
  "language_info": {
   "codemirror_mode": {
    "name": "ipython",
    "version": 3
   },
   "file_extension": ".py",
   "mimetype": "text/x-python",
   "name": "python",
   "nbconvert_exporter": "python",
   "pygments_lexer": "ipython3",
   "version": "3.7.2"
  }
 },
 "nbformat": 4,
 "nbformat_minor": 2
}
